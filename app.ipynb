{
 "cells": [
  {
   "cell_type": "code",
   "execution_count": 102,
   "source": [
    "# # --- FLAG FOR CHANGE DELETE START\r\n",
    "from jupyter_dash import JupyterDash\r\n",
    "# # --- FLAG FOR CHANGE DELETE END\r\n",
    "\r\n",
    "# # --- FLAG FOR CHANGE ADD START\r\n",
    "# import dash\r\n",
    "# # --- FLAG FOR CHANGE ADD END"
   ],
   "outputs": [],
   "metadata": {}
  },
  {
   "cell_type": "code",
   "execution_count": 103,
   "source": [
    "import pandas as pd\r\n",
    "import numpy as np\r\n",
    "from datetime import date\r\n",
    "\r\n",
    "import plotly.express as px\r\n",
    "import dash_core_components as dcc\r\n",
    "import dash_html_components as html\r\n",
    "import dash_bootstrap_components as dbc\r\n",
    "from dash.dependencies import Input, Output, State\r\n",
    "\r\n",
    "from pymongo import MongoClient\r\n",
    "import pymongo\r\n",
    "import os\r\n",
    "from dotenv import load_dotenv\r\n",
    "load_dotenv('.env')\r\n"
   ],
   "outputs": [
    {
     "output_type": "execute_result",
     "data": {
      "text/plain": [
       "True"
      ]
     },
     "metadata": {},
     "execution_count": 103
    }
   ],
   "metadata": {}
  },
  {
   "cell_type": "code",
   "execution_count": 104,
   "source": [
    "connection = os.getenv('CONNECTION_STRING')\r\n",
    "client = pymongo.MongoClient(connection)\r\n",
    "db = client.Finances\r\n",
    "collection = db.Personal\r\n",
    "test = collection.find_one()\r\n",
    "print(test)"
   ],
   "outputs": [
    {
     "output_type": "stream",
     "name": "stdout",
     "text": [
      "{'_id': ObjectId('610694c1552b151d39892fb8'), 'Test': 'Harshit'}\n"
     ]
    }
   ],
   "metadata": {}
  },
  {
   "cell_type": "code",
   "execution_count": 105,
   "source": [
    "\r\n",
    "# Build App\r\n",
    "# # --- FLAG FOR CHANGE DELETE START\r\n",
    "app = JupyterDash(__name__, external_stylesheets=[dbc.themes.SOLAR],\r\n",
    "                meta_tags=[{'name': 'viewport',\r\n",
    "                            'content': 'width=device-width, initial-scale=1.0'}]\r\n",
    "    )\r\n",
    "# # --- FLAG FOR CHANGE DELETE END\r\n",
    "\r\n",
    "# # --- FLAG FOR CHANGE ADD START\r\n",
    "# app = dash.Dash(__name__)\r\n",
    "# # --- FLAG FOR CHANGE ADD END"
   ],
   "outputs": [],
   "metadata": {}
  },
  {
   "cell_type": "code",
   "execution_count": 108,
   "source": [
    "# Load Data\r\n",
    "df = px.data.tips()\r\n",
    "app.layout = html.Div([\r\n",
    "    dbc.Row(\r\n",
    "        [\r\n",
    "            dbc.Col(\r\n",
    "                html.H1(\r\n",
    "                    children = \"Personal Finance Visualistion\",\r\n",
    "                    style = {\r\n",
    "                        'textAlign': 'center',\r\n",
    "                        'padding': '0.5em',\r\n",
    "                        'color': 'white'\r\n",
    "                    }\r\n",
    "                ), \r\n",
    "                width = 12\r\n",
    "            )\r\n",
    "        ],\r\n",
    "        align=\"center\",\r\n",
    "    ),\r\n",
    "    dbc.Row(\r\n",
    "        [\r\n",
    "            dbc.Col(\r\n",
    "                html.Div(\r\n",
    "                    dcc.Graph(\r\n",
    "                        figure=dict(\r\n",
    "                            data=[\r\n",
    "                                dict(\r\n",
    "                                    x=[1995, 1996, 1997, 1998, 1999, 2000, 2001, 2002, 2003,\r\n",
    "                                    2004, 2005, 2006, 2007, 2008, 2009, 2010, 2011, 2012],\r\n",
    "                                    y=[219, 146, 112, 127, 124, 180, 236, 207, 236, 263,\r\n",
    "                                    350, 430, 474, 526, 488, 537, 500, 439],\r\n",
    "                                    name='Rest of world',\r\n",
    "                                    marker=dict(\r\n",
    "                                        color='rgb(55, 83, 109)'\r\n",
    "                                    )\r\n",
    "                                ),\r\n",
    "                                dict(\r\n",
    "                                    x=[1995, 1996, 1997, 1998, 1999, 2000, 2001, 2002, 2003,\r\n",
    "                                    2004, 2005, 2006, 2007, 2008, 2009, 2010, 2011, 2012],\r\n",
    "                                    y=[16, 13, 10, 11, 28, 37, 43, 55, 56, 88, 105, 156, 270,\r\n",
    "                                    299, 340, 403, 549, 499],\r\n",
    "                                    name='China',\r\n",
    "                                    marker=dict(\r\n",
    "                                        color='rgb(26, 118, 255)'\r\n",
    "                                    )\r\n",
    "                                )\r\n",
    "                            ],\r\n",
    "                            layout=dict(\r\n",
    "                                title='US Export of Plastic Scrap',\r\n",
    "                                showlegend=True,\r\n",
    "                                legend=dict(\r\n",
    "                                    x=0,\r\n",
    "                                    y=1.0\r\n",
    "                                ),\r\n",
    "                                margin=dict(l=40, r=0, t=40, b=30)\r\n",
    "                            )\r\n",
    "                        ),\r\n",
    "                        style={'height': '80vh'},\r\n",
    "                        id='my-graph'\r\n",
    "                    ),\r\n",
    "                    style = {\"margin\": '0.5em'}\r\n",
    "                ),\r\n",
    "                width={\"size\": 12, \"order\": 2, },\r\n",
    "                lg=8\r\n",
    "                ),\r\n",
    "            dbc.Col(\r\n",
    "                html.Div(\"Enter DATA\"),\r\n",
    "                width={\"size\": 12, \"order\": 1},\r\n",
    "                lg=4\r\n",
    "                ),\r\n",
    "        ],\r\n",
    "        align=\"center\",\r\n",
    "    ),\r\n",
    "    # ,\r\n",
    "    # # dcc.Graph(id='graph'),\r\n",
    "    # dcc.DatePickerRange(\r\n",
    "    #     start_date=date.today(),\r\n",
    "    #     display_format='Do MMM, YYYY',\r\n",
    "    #     start_date_placeholder_text='MMM Do, YYYY'\r\n",
    "    # )  \r\n",
    "])\r\n",
    "# # Define callback to update graph\r\n",
    "# @app.callback(\r\n",
    "#     Output('graph', 'figure'),\r\n",
    "#     [Input(\"colorscale-dropdown\", \"value\")]\r\n",
    "# )\r\n",
    "# def update_figure(colorscale):\r\n",
    "#     return px.scatter(\r\n",
    "#         df, x=\"total_bill\", y=\"tip\", color=\"size\",\r\n",
    "#         color_continuous_scale=colorscale,\r\n",
    "#         render_mode=\"webgl\", title=\"Tips\"\r\n",
    "#     )"
   ],
   "outputs": [],
   "metadata": {}
  },
  {
   "cell_type": "code",
   "execution_count": 109,
   "source": [
    "# # --- FLAG FOR CHANGE DELETE START\r\n",
    "\r\n",
    "# Run app and display result inline in the notebook\r\n",
    "app.run_server(mode='external')\r\n",
    "\r\n",
    "# # --- FLAG FOR CHANGE DELETE END\r\n",
    "\r\n",
    "# # --- FLAG FOR CHANGE ADD START\r\n",
    "\r\n",
    "# if __name__ == '__main__':\r\n",
    "#     app.run_server(debug=True)\r\n",
    "\r\n",
    "# # --- FLAG FOR CHANGE ADD END"
   ],
   "outputs": [
    {
     "output_type": "stream",
     "name": "stdout",
     "text": [
      "Dash app running on http://127.0.0.1:8050/\n"
     ]
    },
    {
     "output_type": "stream",
     "name": "stderr",
     "text": [
      "C:\\Users\\harsh\\AppData\\Local\\Programs\\Python\\Python39\\lib\\site-packages\\jupyter_dash\\jupyter_app.py:139: UserWarning: The 'environ['werkzeug.server.shutdown']' function is deprecated and will be removed in Werkzeug 2.1.\n",
      "  func()\n"
     ]
    }
   ],
   "metadata": {}
  }
 ],
 "metadata": {
  "orig_nbformat": 4,
  "language_info": {
   "name": "python",
   "version": "3.9.6",
   "mimetype": "text/x-python",
   "codemirror_mode": {
    "name": "ipython",
    "version": 3
   },
   "pygments_lexer": "ipython3",
   "nbconvert_exporter": "python",
   "file_extension": ".py"
  },
  "kernelspec": {
   "name": "python3",
   "display_name": "Python 3.9.6 64-bit"
  },
  "interpreter": {
   "hash": "223c27acd2f0d30991757af3704a37d958d615953cddcb1d78c6a06176f530c7"
  }
 },
 "nbformat": 4,
 "nbformat_minor": 2
}